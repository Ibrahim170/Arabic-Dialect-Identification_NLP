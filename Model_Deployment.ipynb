{
  "nbformat": 4,
  "nbformat_minor": 0,
  "metadata": {
    "colab": {
      "name": "Model_Deployment.ipynb",
      "provenance": []
    },
    "kernelspec": {
      "name": "python3",
      "display_name": "Python 3"
    },
    "language_info": {
      "name": "python"
    }
  },
  "cells": [
    {
      "cell_type": "code",
      "source": [
        "!pip install fastapi nest-asyncio pyngrok uvicorn"
      ],
      "metadata": {
        "colab": {
          "base_uri": "https://localhost:8080/"
        },
        "id": "1i1PDIMNQhOH",
        "outputId": "eb9b87ed-6d15-4a5c-bb3b-90a0b9a5f629"
      },
      "execution_count": 1,
      "outputs": [
        {
          "output_type": "stream",
          "name": "stdout",
          "text": [
            "Collecting fastapi\n",
            "  Downloading fastapi-0.75.0-py3-none-any.whl (54 kB)\n",
            "\u001b[?25l\r\u001b[K     |██████                          | 10 kB 22.6 MB/s eta 0:00:01\r\u001b[K     |████████████                    | 20 kB 26.9 MB/s eta 0:00:01\r\u001b[K     |██████████████████              | 30 kB 22.9 MB/s eta 0:00:01\r\u001b[K     |████████████████████████        | 40 kB 12.8 MB/s eta 0:00:01\r\u001b[K     |██████████████████████████████  | 51 kB 9.0 MB/s eta 0:00:01\r\u001b[K     |████████████████████████████████| 54 kB 2.1 MB/s \n",
            "\u001b[?25hRequirement already satisfied: nest-asyncio in /usr/local/lib/python3.7/dist-packages (1.5.4)\n",
            "Collecting pyngrok\n",
            "  Downloading pyngrok-5.1.0.tar.gz (745 kB)\n",
            "\u001b[K     |████████████████████████████████| 745 kB 15.9 MB/s \n",
            "\u001b[?25hCollecting uvicorn\n",
            "  Downloading uvicorn-0.17.6-py3-none-any.whl (53 kB)\n",
            "\u001b[K     |████████████████████████████████| 53 kB 1.8 MB/s \n",
            "\u001b[?25hCollecting starlette==0.17.1\n",
            "  Downloading starlette-0.17.1-py3-none-any.whl (58 kB)\n",
            "\u001b[K     |████████████████████████████████| 58 kB 4.2 MB/s \n",
            "\u001b[?25hCollecting pydantic!=1.7,!=1.7.1,!=1.7.2,!=1.7.3,!=1.8,!=1.8.1,<2.0.0,>=1.6.2\n",
            "  Downloading pydantic-1.9.0-cp37-cp37m-manylinux_2_17_x86_64.manylinux2014_x86_64.whl (10.9 MB)\n",
            "\u001b[K     |████████████████████████████████| 10.9 MB 1.9 MB/s \n",
            "\u001b[?25hCollecting anyio<4,>=3.0.0\n",
            "  Downloading anyio-3.5.0-py3-none-any.whl (79 kB)\n",
            "\u001b[K     |████████████████████████████████| 79 kB 7.4 MB/s \n",
            "\u001b[?25hRequirement already satisfied: typing-extensions in /usr/local/lib/python3.7/dist-packages (from starlette==0.17.1->fastapi) (3.10.0.2)\n",
            "Requirement already satisfied: idna>=2.8 in /usr/local/lib/python3.7/dist-packages (from anyio<4,>=3.0.0->starlette==0.17.1->fastapi) (2.10)\n",
            "Collecting sniffio>=1.1\n",
            "  Downloading sniffio-1.2.0-py3-none-any.whl (10 kB)\n",
            "Requirement already satisfied: PyYAML in /usr/local/lib/python3.7/dist-packages (from pyngrok) (3.13)\n",
            "Collecting asgiref>=3.4.0\n",
            "  Downloading asgiref-3.5.0-py3-none-any.whl (22 kB)\n",
            "Collecting h11>=0.8\n",
            "  Downloading h11-0.13.0-py3-none-any.whl (58 kB)\n",
            "\u001b[K     |████████████████████████████████| 58 kB 3.1 MB/s \n",
            "\u001b[?25hRequirement already satisfied: click>=7.0 in /usr/local/lib/python3.7/dist-packages (from uvicorn) (7.1.2)\n",
            "Building wheels for collected packages: pyngrok\n",
            "  Building wheel for pyngrok (setup.py) ... \u001b[?25l\u001b[?25hdone\n",
            "  Created wheel for pyngrok: filename=pyngrok-5.1.0-py3-none-any.whl size=19007 sha256=abb4e0dc521a94830c973062448d5481bcb2ba8bc39c0eb616db5312a8fd85cd\n",
            "  Stored in directory: /root/.cache/pip/wheels/bf/e6/af/ccf6598ecefecd44104069371795cb9b3afbcd16987f6ccfb3\n",
            "Successfully built pyngrok\n",
            "Installing collected packages: sniffio, anyio, starlette, pydantic, h11, asgiref, uvicorn, pyngrok, fastapi\n",
            "Successfully installed anyio-3.5.0 asgiref-3.5.0 fastapi-0.75.0 h11-0.13.0 pydantic-1.9.0 pyngrok-5.1.0 sniffio-1.2.0 starlette-0.17.1 uvicorn-0.17.6\n"
          ]
        }
      ]
    },
    {
      "cell_type": "code",
      "execution_count": 2,
      "metadata": {
        "colab": {
          "base_uri": "https://localhost:8080/"
        },
        "id": "42V6P58nHu17",
        "outputId": "7c788489-f892-4a4b-f89f-17c34fcf76db"
      },
      "outputs": [
        {
          "output_type": "stream",
          "name": "stdout",
          "text": [
            "[nltk_data] Downloading package punkt to /root/nltk_data...\n",
            "[nltk_data]   Unzipping tokenizers/punkt.zip.\n"
          ]
        },
        {
          "output_type": "execute_result",
          "data": {
            "text/plain": [
              "True"
            ]
          },
          "metadata": {},
          "execution_count": 2
        }
      ],
      "source": [
        "from __future__ import annotations\n",
        "import os\n",
        "import json\n",
        "from datetime import datetime\n",
        "from threading import Thread, current_thread, get_ident\n",
        "from typing import Dict, List, Union\n",
        "import joblib\n",
        "from sklearn.model_selection import train_test_split\n",
        "from sklearn.linear_model import LogisticRegression\n",
        "from sklearn.feature_extraction.text import TfidfVectorizer\n",
        "from sklearn.metrics import classification_report\n",
        "from sklearn.pipeline import make_pipeline\n",
        "\n",
        "\n",
        "from typing import Dict, List, Optional, Union\n",
        "from fastapi import FastAPI, HTTPException\n",
        "from pydantic import BaseModel\n",
        "\n",
        "import nltk\n",
        "nltk.download('punkt')"
      ]
    },
    {
      "cell_type": "code",
      "source": [
        "model=joblib.load('/content/drive/MyDrive/AIM_Task/SVM_Model_final.joblib')"
      ],
      "metadata": {
        "id": "7M42iUpTQplc"
      },
      "execution_count": 3,
      "outputs": []
    },
    {
      "cell_type": "code",
      "source": [
        "labels_dec={0: 'AE',\n",
        " 1: 'BH',\n",
        " 2: 'DZ',\n",
        " 3: 'EG',\n",
        " 4: 'IQ',\n",
        " 5: 'JO',\n",
        " 6: 'KW',\n",
        " 7: 'LB',\n",
        " 8: 'LY',\n",
        " 9: 'MA',\n",
        " 10: 'OM',\n",
        " 11: 'PL',\n",
        " 12: 'QA',\n",
        " 13: 'SA',\n",
        " 14: 'SD',\n",
        " 15: 'SY',\n",
        " 16: 'TN',\n",
        " 17: 'YE'}"
      ],
      "metadata": {
        "id": "ve0_XnsWSyLF"
      },
      "execution_count": 4,
      "outputs": []
    },
    {
      "cell_type": "code",
      "source": [
        "def predict(self, texts: List[str]) -> List[Dict]:\n",
        "    response = []\n",
        "    if self.model:\n",
        "        probs = self.model.predict_proba(texts)\n",
        "        for i, row in enumerate(probs):\n",
        "            row_pred = {}\n",
        "            row_pred['text'] = texts[i]\n",
        "            row_pred['predictions'] = {class_: round(float(prob), 3) for class_, prob in zip(\n",
        "                self.model_status['classes'], row)}\n",
        "            response.append(row_pred)\n",
        "    else:\n",
        "        raise Exception(\"No Trained model was found.\")\n",
        "    return response\n",
        "\n",
        "def get_status(self) -> Dict:\n",
        "    return self.model_status\n",
        "\n",
        "def _update_status(self, status: str, classes: List[str] = [], evaluation: Dict = {}) -> None:\n",
        "    self.model_status['status'] = status\n",
        "    self.model_status['timestamp'] = datetime.now().isoformat()\n",
        "    self.model_status['classes'] = classes\n",
        "    self.model_status['evaluation'] = evaluation\n",
        "\n",
        "    with open(self.__status_path, 'w+') as file:\n",
        "        json.dump(self.model_status, file, indent=2)"
      ],
      "metadata": {
        "id": "4lnICc4DQa-V"
      },
      "execution_count": 5,
      "outputs": []
    },
    {
      "cell_type": "code",
      "source": [
        "app = FastAPI()\n",
        "\n",
        "\n",
        "\n",
        "class TestingData(BaseModel):\n",
        "    texts: List[str]\n",
        "\n",
        "class QueryText(BaseModel):\n",
        "    text: str\n",
        "\n",
        "class StatusObject(BaseModel):\n",
        "    status: str\n",
        "    timestamp: str\n",
        "    classes: List[str]\n",
        "    evaluation: Dict\n",
        "\n",
        "class PredictionObject(BaseModel):\n",
        "    text: str\n",
        "    predictions: Dict\n",
        "\n",
        "class PredictionsObject(BaseModel):\n",
        "    predictions: List[PredictionObject]\n",
        "\n",
        "\n",
        "@app.get(\"/status\", summary=\"Get current model pipeline and paramaters\")\n",
        "def get_status():\n",
        "    status = model\n",
        "    return status\n",
        "\n",
        "\n",
        "\n",
        "@app.post(\"/predict\", summary=\"Predict single input\")\n",
        "def predict(query_text: QueryText):\n",
        "    try:\n",
        "        prediction = labels_dec[model.predict([query_text.text])[0]]\n",
        "        return prediction\n",
        "    except Exception as e:\n",
        "        raise HTTPException(status_code=503, detail=str(e))\n",
        "\n",
        "@app.post(\"/predict-batch\", summary=\"predict a batch of sentences\")\n",
        "def predict_batch(testing_data:TestingData):\n",
        "    try:\n",
        "        predictions = model.predict(testing_data.texts)\n",
        "        res=[]\n",
        "        for p in predictions :\n",
        "          p=labels_dec[p]\n",
        "          res.append(p)\n",
        "        return res\n",
        "    except Exception as e:\n",
        "        raise HTTPException(status_code=503, detail=str(e))\n",
        "\n",
        "\n",
        "@app.get(\"/\")\n",
        "def home():\n",
        "    return({\"message\": \"System is up\"})"
      ],
      "metadata": {
        "id": "htG6r4QARWAU"
      },
      "execution_count": 6,
      "outputs": []
    },
    {
      "cell_type": "code",
      "source": [
        "!ngrok authtoken 26NqrTAueDj2zczpSWJPeEc943x_3aJ37uA7kWFhQXFegXQhc"
      ],
      "metadata": {
        "colab": {
          "base_uri": "https://localhost:8080/"
        },
        "id": "46Nfswg2RZ4q",
        "outputId": "498da326-4b1f-42d7-b6dd-62ba3bae27de"
      },
      "execution_count": 7,
      "outputs": [
        {
          "output_type": "stream",
          "name": "stdout",
          "text": [
            "Authtoken saved to configuration file: /root/.ngrok2/ngrok.yml\n"
          ]
        }
      ]
    },
    {
      "cell_type": "code",
      "source": [
        "import nest_asyncio\n",
        "from pyngrok import ngrok\n",
        "import uvicorn\n",
        "\n",
        "ngrok_tunnel = ngrok.connect(8000)\n",
        "print('Public URL:', ngrok_tunnel.public_url)\n",
        "nest_asyncio.apply()\n",
        "uvicorn.run(app, port=8000)"
      ],
      "metadata": {
        "id": "sJ9xAuGDRcXh"
      },
      "execution_count": null,
      "outputs": []
    },
    {
      "cell_type": "code",
      "source": [
        ""
      ],
      "metadata": {
        "colab": {
          "base_uri": "https://localhost:8080/"
        },
        "id": "P7kyiRPxYizQ",
        "outputId": "80debf7d-827f-4575-9529-e854e95ff3d7"
      },
      "execution_count": 7,
      "outputs": [
        {
          "output_type": "stream",
          "name": "stdout",
          "text": [
            "Public URL: http://8681-34-125-29-84.ngrok.io\n"
          ]
        }
      ]
    }
  ]
}