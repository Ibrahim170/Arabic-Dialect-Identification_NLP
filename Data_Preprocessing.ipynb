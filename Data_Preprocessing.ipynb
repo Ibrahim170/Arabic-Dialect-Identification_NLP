{
  "nbformat": 4,
  "nbformat_minor": 0,
  "metadata": {
    "colab": {
      "name": "Data_Preprocessing.ipynb",
      "provenance": [],
      "collapsed_sections": []
    },
    "kernelspec": {
      "name": "python3",
      "display_name": "Python 3"
    },
    "language_info": {
      "name": "python"
    }
  },
  "cells": [
    {
      "cell_type": "code",
      "execution_count": 1,
      "metadata": {
        "id": "8c7tW5KA_Uh2"
      },
      "outputs": [],
      "source": [
        "import pandas as pd\n",
        "import numpy as np\n",
        "import matplotlib.pyplot as plt\n",
        "from sklearn.model_selection import StratifiedKFold, KFold,GroupKFold\n",
        "from sklearn.metrics import mean_squared_error\n",
        "%matplotlib inline\n",
        "import seaborn as sns\n",
        "from sklearn.preprocessing import LabelEncoder\n",
        "\n",
        "import re \n",
        "\n",
        "import nltk \n",
        "from nltk.corpus import stopwords\n",
        "from nltk import word_tokenize, sent_tokenize\n",
        "from textblob import Word\n",
        "\n",
        "from nltk.stem import WordNetLemmatizer\n",
        "\n",
        "from nltk.tokenize import RegexpTokenizer\n",
        "import matplotlib.cm as cm\n",
        "from matplotlib import rcParams\n",
        "\n",
        "from collections import Counter \n",
        "\n"
      ]
    },
    {
      "cell_type": "code",
      "source": [
        "df = pd.read_csv('/content/drive/MyDrive/AIM_Task/final_dialect_dataset.csv',lineterminator='\\n')\n",
        "df.head()"
      ],
      "metadata": {
        "colab": {
          "base_uri": "https://localhost:8080/",
          "height": 206
        },
        "id": "pbBQVB-i_o4d",
        "outputId": "056f57cb-85b3-4326-f041-de79d730e997"
      },
      "execution_count": 2,
      "outputs": [
        {
          "output_type": "execute_result",
          "data": {
            "text/plain": [
              "                    id dialect  \\\n",
              "0  1175358310087892992      IQ   \n",
              "1  1175416117793349632      IQ   \n",
              "2  1175450108898565888      IQ   \n",
              "3  1175471073770573824      IQ   \n",
              "4  1175496913145217024      IQ   \n",
              "\n",
              "                                               tweet  \n",
              "0   @Nw8ieJUwaCAAreT لكن بالنهاية .. ينتفض .. يغير .  \n",
              "1  @7zNqXP0yrODdRjK يعني هذا محسوب على البشر .. ح...  \n",
              "2                    @KanaanRema مبين من كلامه خليجي  \n",
              "3         @HAIDER76128900 يسلملي مرورك وروحك الحلوه💐  \n",
              "4                 @hmo2406 وين هل الغيبه  اخ محمد 🌸🌺  "
            ],
            "text/html": [
              "\n",
              "  <div id=\"df-332a9157-b255-40eb-bae1-95bbc6bc4749\">\n",
              "    <div class=\"colab-df-container\">\n",
              "      <div>\n",
              "<style scoped>\n",
              "    .dataframe tbody tr th:only-of-type {\n",
              "        vertical-align: middle;\n",
              "    }\n",
              "\n",
              "    .dataframe tbody tr th {\n",
              "        vertical-align: top;\n",
              "    }\n",
              "\n",
              "    .dataframe thead th {\n",
              "        text-align: right;\n",
              "    }\n",
              "</style>\n",
              "<table border=\"1\" class=\"dataframe\">\n",
              "  <thead>\n",
              "    <tr style=\"text-align: right;\">\n",
              "      <th></th>\n",
              "      <th>id</th>\n",
              "      <th>dialect</th>\n",
              "      <th>tweet</th>\n",
              "    </tr>\n",
              "  </thead>\n",
              "  <tbody>\n",
              "    <tr>\n",
              "      <th>0</th>\n",
              "      <td>1175358310087892992</td>\n",
              "      <td>IQ</td>\n",
              "      <td>@Nw8ieJUwaCAAreT لكن بالنهاية .. ينتفض .. يغير .</td>\n",
              "    </tr>\n",
              "    <tr>\n",
              "      <th>1</th>\n",
              "      <td>1175416117793349632</td>\n",
              "      <td>IQ</td>\n",
              "      <td>@7zNqXP0yrODdRjK يعني هذا محسوب على البشر .. ح...</td>\n",
              "    </tr>\n",
              "    <tr>\n",
              "      <th>2</th>\n",
              "      <td>1175450108898565888</td>\n",
              "      <td>IQ</td>\n",
              "      <td>@KanaanRema مبين من كلامه خليجي</td>\n",
              "    </tr>\n",
              "    <tr>\n",
              "      <th>3</th>\n",
              "      <td>1175471073770573824</td>\n",
              "      <td>IQ</td>\n",
              "      <td>@HAIDER76128900 يسلملي مرورك وروحك الحلوه💐</td>\n",
              "    </tr>\n",
              "    <tr>\n",
              "      <th>4</th>\n",
              "      <td>1175496913145217024</td>\n",
              "      <td>IQ</td>\n",
              "      <td>@hmo2406 وين هل الغيبه  اخ محمد 🌸🌺</td>\n",
              "    </tr>\n",
              "  </tbody>\n",
              "</table>\n",
              "</div>\n",
              "      <button class=\"colab-df-convert\" onclick=\"convertToInteractive('df-332a9157-b255-40eb-bae1-95bbc6bc4749')\"\n",
              "              title=\"Convert this dataframe to an interactive table.\"\n",
              "              style=\"display:none;\">\n",
              "        \n",
              "  <svg xmlns=\"http://www.w3.org/2000/svg\" height=\"24px\"viewBox=\"0 0 24 24\"\n",
              "       width=\"24px\">\n",
              "    <path d=\"M0 0h24v24H0V0z\" fill=\"none\"/>\n",
              "    <path d=\"M18.56 5.44l.94 2.06.94-2.06 2.06-.94-2.06-.94-.94-2.06-.94 2.06-2.06.94zm-11 1L8.5 8.5l.94-2.06 2.06-.94-2.06-.94L8.5 2.5l-.94 2.06-2.06.94zm10 10l.94 2.06.94-2.06 2.06-.94-2.06-.94-.94-2.06-.94 2.06-2.06.94z\"/><path d=\"M17.41 7.96l-1.37-1.37c-.4-.4-.92-.59-1.43-.59-.52 0-1.04.2-1.43.59L10.3 9.45l-7.72 7.72c-.78.78-.78 2.05 0 2.83L4 21.41c.39.39.9.59 1.41.59.51 0 1.02-.2 1.41-.59l7.78-7.78 2.81-2.81c.8-.78.8-2.07 0-2.86zM5.41 20L4 18.59l7.72-7.72 1.47 1.35L5.41 20z\"/>\n",
              "  </svg>\n",
              "      </button>\n",
              "      \n",
              "  <style>\n",
              "    .colab-df-container {\n",
              "      display:flex;\n",
              "      flex-wrap:wrap;\n",
              "      gap: 12px;\n",
              "    }\n",
              "\n",
              "    .colab-df-convert {\n",
              "      background-color: #E8F0FE;\n",
              "      border: none;\n",
              "      border-radius: 50%;\n",
              "      cursor: pointer;\n",
              "      display: none;\n",
              "      fill: #1967D2;\n",
              "      height: 32px;\n",
              "      padding: 0 0 0 0;\n",
              "      width: 32px;\n",
              "    }\n",
              "\n",
              "    .colab-df-convert:hover {\n",
              "      background-color: #E2EBFA;\n",
              "      box-shadow: 0px 1px 2px rgba(60, 64, 67, 0.3), 0px 1px 3px 1px rgba(60, 64, 67, 0.15);\n",
              "      fill: #174EA6;\n",
              "    }\n",
              "\n",
              "    [theme=dark] .colab-df-convert {\n",
              "      background-color: #3B4455;\n",
              "      fill: #D2E3FC;\n",
              "    }\n",
              "\n",
              "    [theme=dark] .colab-df-convert:hover {\n",
              "      background-color: #434B5C;\n",
              "      box-shadow: 0px 1px 3px 1px rgba(0, 0, 0, 0.15);\n",
              "      filter: drop-shadow(0px 1px 2px rgba(0, 0, 0, 0.3));\n",
              "      fill: #FFFFFF;\n",
              "    }\n",
              "  </style>\n",
              "\n",
              "      <script>\n",
              "        const buttonEl =\n",
              "          document.querySelector('#df-332a9157-b255-40eb-bae1-95bbc6bc4749 button.colab-df-convert');\n",
              "        buttonEl.style.display =\n",
              "          google.colab.kernel.accessAllowed ? 'block' : 'none';\n",
              "\n",
              "        async function convertToInteractive(key) {\n",
              "          const element = document.querySelector('#df-332a9157-b255-40eb-bae1-95bbc6bc4749');\n",
              "          const dataTable =\n",
              "            await google.colab.kernel.invokeFunction('convertToInteractive',\n",
              "                                                     [key], {});\n",
              "          if (!dataTable) return;\n",
              "\n",
              "          const docLinkHtml = 'Like what you see? Visit the ' +\n",
              "            '<a target=\"_blank\" href=https://colab.research.google.com/notebooks/data_table.ipynb>data table notebook</a>'\n",
              "            + ' to learn more about interactive tables.';\n",
              "          element.innerHTML = '';\n",
              "          dataTable['output_type'] = 'display_data';\n",
              "          await google.colab.output.renderOutput(dataTable, element);\n",
              "          const docLink = document.createElement('div');\n",
              "          docLink.innerHTML = docLinkHtml;\n",
              "          element.appendChild(docLink);\n",
              "        }\n",
              "      </script>\n",
              "    </div>\n",
              "  </div>\n",
              "  "
            ]
          },
          "metadata": {},
          "execution_count": 2
        }
      ]
    },
    {
      "cell_type": "code",
      "source": [
        "df['dialect'].value_counts()"
      ],
      "metadata": {
        "colab": {
          "base_uri": "https://localhost:8080/"
        },
        "id": "_aUy6T6FABFg",
        "outputId": "e07353a5-568e-421b-898d-d8553c3da189"
      },
      "execution_count": 3,
      "outputs": [
        {
          "output_type": "execute_result",
          "data": {
            "text/plain": [
              "EG    57636\n",
              "PL    43742\n",
              "KW    42109\n",
              "LY    36499\n",
              "QA    31069\n",
              "JO    27921\n",
              "LB    27617\n",
              "SA    26832\n",
              "AE    26296\n",
              "BH    26292\n",
              "OM    19116\n",
              "SY    16242\n",
              "DZ    16183\n",
              "IQ    15497\n",
              "SD    14434\n",
              "MA    11539\n",
              "YE     9927\n",
              "TN     9246\n",
              "Name: dialect, dtype: int64"
            ]
          },
          "metadata": {},
          "execution_count": 3
        }
      ]
    },
    {
      "cell_type": "code",
      "source": [
        "\n",
        "enc = LabelEncoder()\n",
        "df['label'] = enc.fit_transform(df['dialect'])\n",
        "\n",
        "class_names = df.groupby(['dialect', 'label']).count().reset_index().loc[:,['dialect', 'label']]"
      ],
      "metadata": {
        "id": "164o5EoCB3-S"
      },
      "execution_count": 4,
      "outputs": []
    },
    {
      "cell_type": "code",
      "source": [
        "category_counts = df['dialect'].value_counts()\n",
        "categories = category_counts.index\n",
        "\n",
        "fig = plt.figure(figsize = (20,15))\n",
        "ax = fig.add_subplot(111)\n",
        "sns.barplot(x = category_counts.index , y = category_counts)\n",
        "for a, p in enumerate(ax.patches):\n",
        "    ax.annotate(f'{categories[a]}\\n' + format(p.get_height(), '.0f'), xy = (p.get_x() + p.get_width() / 2.0, p.get_height()), xytext = (0,-25), size = 13, color = 'white' , ha = 'center', va = 'center', textcoords = 'offset points', bbox = dict(boxstyle = 'round', facecolor='none',edgecolor='white', alpha = 0.5) )\n",
        "plt.xlabel('Dialects', size = 15)\n",
        "plt.ylabel('The Number of tweets', size= 15)\n",
        "plt.xticks(size = 12)\n",
        "\n",
        "plt.title(\"The number of tweets by Dialect\" , size = 18)\n",
        "plt.show()"
      ],
      "metadata": {
        "colab": {
          "base_uri": "https://localhost:8080/",
          "height": 925
        },
        "id": "mlaV51LaCTBE",
        "outputId": "74519b82-cae7-431f-d478-66e0fd32464f"
      },
      "execution_count": 5,
      "outputs": [
        {
          "output_type": "display_data",
          "data": {
            "text/plain": [
              "<Figure size 1440x1080 with 1 Axes>"
            ],
            "image/png": "[encoded data removed]"
          },
          "metadata": {
            "needs_background": "light"
          }
        }
      ]
    },
    {
      "cell_type": "code",
      "source": [
        "df['tweet'].str.len().hist()"
      ],
      "metadata": {
        "colab": {
          "base_uri": "https://localhost:8080/",
          "height": 286
        },
        "id": "YUEcxv_yC4R5",
        "outputId": "c7e0c019-0ca0-4c17-d840-a9fc05f92cf8"
      },
      "execution_count": 6,
      "outputs": [
        {
          "output_type": "execute_result",
          "data": {
            "text/plain": [
              "<matplotlib.axes._subplots.AxesSubplot at 0x7f7d3d5a6610>"
            ]
          },
          "metadata": {},
          "execution_count": 6
        },
        {
          "output_type": "display_data",
          "data": {
            "text/plain": [
              "<Figure size 432x288 with 1 Axes>"
            ],
            "image/png": "[encoded data removed]"
          },
          "metadata": {
            "needs_background": "light"
          }
        }
      ]
    },
    {
      "cell_type": "code",
      "source": [
        "nltk.download(\"stopwords\")\n",
        "arb_stopwords = set(nltk.corpus.stopwords.words(\"arabic\"))\n",
        "\n",
        "\n",
        "\n",
        "def remove_users(df, col):\n",
        "    df[col] = df[col].apply(lambda x: re.sub(r'(RT\\s@[A-Za-z]+[A-Za-z0-9-_]+)', '', str(x))) # remove re-tweet\n",
        "    df[col] = df[col].apply(lambda x: re.sub(r'(@[A-Za-z0-9-_]+)', '', str(x))) # remove tweeted at\n",
        "    df[col] = df[col].apply(lambda x: re.sub(r'@[^\\s]+[\\s]?', '', str(x)))\n",
        "\n",
        "def remove_special_char(df, col):\n",
        "    \"\"\"function to remove any special characters or english words\"\"\"\n",
        "    df[col] = df[col].apply(lambda x: re.sub(r'&[\\S]+?;', '', str(x)))\n",
        "    df[col] = df[col].apply(lambda x: re.sub(r'[^\\w\\s]', r'', str(x)))\n",
        "    df[col] = df[col].apply(lambda x: re.sub(r'#', ' ', str(x)))\n",
        "    df[col] = df[col].apply(lambda x: re.sub(r'\\s*[A-Za-z]+\\b', '' , str(x)))\n",
        "\n",
        "\n",
        "def remove_links(df, col):\n",
        "    df[col] = df[col].apply(lambda x: re.sub(r'http\\S+', '', str(x)))  # remove http links\n",
        "    df[col] = df[col].apply(lambda x: re.sub(r'bit.ly/\\S+', '', str(x)))  # remove bit.ly links    \n",
        "\n",
        "def remove_numerics(df, col):\n",
        "    \"\"\"function to remove numbers or words with digits\"\"\"\n",
        "    df[col] = df[col].apply(lambda x: re.sub(r'\\w*\\d\\w*', r'', str(x)))\n",
        "\n",
        "def remove_whitespaces(df, col):\n",
        "    \"\"\"function to remove any double or more whitespaces to single and any leading and trailing whitespaces\"\"\"\n",
        "    df[col] = df[col].apply(lambda x: re.sub(r'\\s\\s+', ' ', str(x))) \n",
        "    df[col] = df[col].apply(lambda x: re.sub(r'(\\A\\s+|\\s+\\Z)', '', str(x))) \n",
        "\n",
        "def lemmatize(token):\n",
        "    \"\"\"Returns lemmatization of a token\"\"\"\n",
        "    return WordNetLemmatizer().lemmatize(token, pos='v')\n",
        "\n",
        "def tokenize(df,col):\n",
        "  tokenizer = RegexpTokenizer(r'\\w+')\n",
        "  df[col] = df[col].apply(tokenizer.tokenize)\n",
        "  \n",
        "\n",
        "    \n",
        "\n",
        "def normalize(text):\n",
        "    text = text.strip()\n",
        "    text = re.sub(\"[إأٱآا]\", \"ا\", text)\n",
        "    text = re.sub(\"ى\", \"ي\", text)\n",
        "    text = re.sub(\"ؤ\", \"ء\", text)\n",
        "    text = re.sub(\"ئ\", \"ء\", text)\n",
        "    text = re.sub(\"ة\", \"ه\", text)\n",
        "    noise = re.compile(\"\"\" ّ    | # Tashdid\n",
        "                             َ    | # Fatha\n",
        "                             ً    | # Tanwin Fath\n",
        "                             ُ    | # Damma\n",
        "                             ٌ    | # Tanwin Damm\n",
        "                             ِ    | # Kasra\n",
        "                             ٍ    | # Tanwin Kasr\n",
        "                             ْ    | # Sukun\n",
        "                             ـ     # Tatwil/Kashida\n",
        "                         \"\"\", re.VERBOSE)\n",
        "    text = re.sub(noise, '', text)\n",
        "    text = re.sub(r'(.)\\1+', r\"\\1\\1\", text) # Remove longation\n",
        "    return text\n",
        "  \n",
        "def normalize_text(df,col):\n",
        "  df[col] = df[col].apply(normalize)\n",
        "\n",
        "\n",
        "def preprocess_tweets(df, col):\n",
        "    \"\"\"master function to preprocess tweets\"\"\"\n",
        "    remove_users(df, col)\n",
        "    remove_links(df, col)\n",
        "    remove_special_char(df, col)\n",
        "    remove_whitespaces(df, col)\n",
        "    remove_numerics(df, col)\n",
        "    normalize_text(df,col)\n",
        "    #tokenize(df,col)\n",
        "    \n",
        "    return df\n",
        "\n",
        "\n"
      ],
      "metadata": {
        "colab": {
          "base_uri": "https://localhost:8080/"
        },
        "id": "-WK14fk1ctX0",
        "outputId": "50e7ac8c-d779-4dd4-ff00-6272c623ac71"
      },
      "execution_count": 7,
      "outputs": [
        {
          "output_type": "stream",
          "name": "stdout",
          "text": [
            "[nltk_data] Downloading package stopwords to /root/nltk_data...\n",
            "[nltk_data]   Unzipping corpora/stopwords.zip.\n"
          ]
        }
      ]
    },
    {
      "cell_type": "code",
      "source": [
        "df['clean_text']=df['tweet']"
      ],
      "metadata": {
        "id": "5L-HOPFTcthr"
      },
      "execution_count": 8,
      "outputs": []
    },
    {
      "cell_type": "code",
      "source": [
        "preprocess_tweets(df, 'clean_text')\n",
        "df"
      ],
      "metadata": {
        "colab": {
          "base_uri": "https://localhost:8080/",
          "height": 423
        },
        "id": "7n8G7KIncto9",
        "outputId": "269e478f-c31f-4299-b1b5-0ef2f7a5474b"
      },
      "execution_count": 9,
      "outputs": [
        {
          "output_type": "execute_result",
          "data": {
            "text/plain": [
              "                         id dialect  \\\n",
              "0       1175358310087892992      IQ   \n",
              "1       1175416117793349632      IQ   \n",
              "2       1175450108898565888      IQ   \n",
              "3       1175471073770573824      IQ   \n",
              "4       1175496913145217024      IQ   \n",
              "...                     ...     ...   \n",
              "458192  1019484980282580992      BH   \n",
              "458193  1021083283709407232      BH   \n",
              "458194  1017477537889431552      BH   \n",
              "458195  1022430374696239232      BH   \n",
              "458196  1022409931029458944      BH   \n",
              "\n",
              "                                                    tweet  label  \\\n",
              "0        @Nw8ieJUwaCAAreT لكن بالنهاية .. ينتفض .. يغير .      4   \n",
              "1       @7zNqXP0yrODdRjK يعني هذا محسوب على البشر .. ح...      4   \n",
              "2                         @KanaanRema مبين من كلامه خليجي      4   \n",
              "3              @HAIDER76128900 يسلملي مرورك وروحك الحلوه💐      4   \n",
              "4                      @hmo2406 وين هل الغيبه  اخ محمد 🌸🌺      4   \n",
              "...                                                   ...    ...   \n",
              "458192              @Al_mhbaa_7 مبسوطين منك اللي باسطانا😅      1   \n",
              "458193       @Zzainabali @P_ameerah والله ماينده ابش يختي      1   \n",
              "458194  @Al_mhbaa_7 شو عملنا لك حنا تهربي مننا احنا مس...      1   \n",
              "458195        @haneenalmwla الله يبارك فيها وبالعافيه 😋😋😋      1   \n",
              "458196          @jolnar121 السحله ضيفي ي بتطلع لك سحليه😅😅      1   \n",
              "\n",
              "                                               clean_text  \n",
              "0                                 لكن بالنهايه ينتفض يغير  \n",
              "1       يعني هذا محسوب علي البشر حيونه ووحشيه وتطلبون ...  \n",
              "2                                     مبين من كلامه خليجي  \n",
              "3                               يسلملي مرورك وروحك الحلوه  \n",
              "4                                   وين هل الغيبه اخ محمد  \n",
              "...                                                   ...  \n",
              "458192                           مبسوطين منك اللي باسطانا  \n",
              "458193                              والله ماينده ابش يختي  \n",
              "458194  شو عملنا لك حنا تهربي مننا احنا مساكين ليش بتع...  \n",
              "458195                          الله يبارك فيها وبالعافيه  \n",
              "458196                       السحله ضيفي ي بتطلع لك سحليه  \n",
              "\n",
              "[458197 rows x 5 columns]"
            ],
            "text/html": [
              "\n",
              "  <div id=\"df-163a4ecb-737b-4819-9df0-8e1284d308f3\">\n",
              "    <div class=\"colab-df-container\">\n",
              "      <div>\n",
              "<style scoped>\n",
              "    .dataframe tbody tr th:only-of-type {\n",
              "        vertical-align: middle;\n",
              "    }\n",
              "\n",
              "    .dataframe tbody tr th {\n",
              "        vertical-align: top;\n",
              "    }\n",
              "\n",
              "    .dataframe thead th {\n",
              "        text-align: right;\n",
              "    }\n",
              "</style>\n",
              "<table border=\"1\" class=\"dataframe\">\n",
              "  <thead>\n",
              "    <tr style=\"text-align: right;\">\n",
              "      <th></th>\n",
              "      <th>id</th>\n",
              "      <th>dialect</th>\n",
              "      <th>tweet</th>\n",
              "      <th>label</th>\n",
              "      <th>clean_text</th>\n",
              "    </tr>\n",
              "  </thead>\n",
              "  <tbody>\n",
              "    <tr>\n",
              "      <th>0</th>\n",
              "      <td>1175358310087892992</td>\n",
              "      <td>IQ</td>\n",
              "      <td>@Nw8ieJUwaCAAreT لكن بالنهاية .. ينتفض .. يغير .</td>\n",
              "      <td>4</td>\n",
              "      <td>لكن بالنهايه ينتفض يغير</td>\n",
              "    </tr>\n",
              "    <tr>\n",
              "      <th>1</th>\n",
              "      <td>1175416117793349632</td>\n",
              "      <td>IQ</td>\n",
              "      <td>@7zNqXP0yrODdRjK يعني هذا محسوب على البشر .. ح...</td>\n",
              "      <td>4</td>\n",
              "      <td>يعني هذا محسوب علي البشر حيونه ووحشيه وتطلبون ...</td>\n",
              "    </tr>\n",
              "    <tr>\n",
              "      <th>2</th>\n",
              "      <td>1175450108898565888</td>\n",
              "      <td>IQ</td>\n",
              "      <td>@KanaanRema مبين من كلامه خليجي</td>\n",
              "      <td>4</td>\n",
              "      <td>مبين من كلامه خليجي</td>\n",
              "    </tr>\n",
              "    <tr>\n",
              "      <th>3</th>\n",
              "      <td>1175471073770573824</td>\n",
              "      <td>IQ</td>\n",
              "      <td>@HAIDER76128900 يسلملي مرورك وروحك الحلوه💐</td>\n",
              "      <td>4</td>\n",
              "      <td>يسلملي مرورك وروحك الحلوه</td>\n",
              "    </tr>\n",
              "    <tr>\n",
              "      <th>4</th>\n",
              "      <td>1175496913145217024</td>\n",
              "      <td>IQ</td>\n",
              "      <td>@hmo2406 وين هل الغيبه  اخ محمد 🌸🌺</td>\n",
              "      <td>4</td>\n",
              "      <td>وين هل الغيبه اخ محمد</td>\n",
              "    </tr>\n",
              "    <tr>\n",
              "      <th>...</th>\n",
              "      <td>...</td>\n",
              "      <td>...</td>\n",
              "      <td>...</td>\n",
              "      <td>...</td>\n",
              "      <td>...</td>\n",
              "    </tr>\n",
              "    <tr>\n",
              "      <th>458192</th>\n",
              "      <td>1019484980282580992</td>\n",
              "      <td>BH</td>\n",
              "      <td>@Al_mhbaa_7 مبسوطين منك اللي باسطانا😅</td>\n",
              "      <td>1</td>\n",
              "      <td>مبسوطين منك اللي باسطانا</td>\n",
              "    </tr>\n",
              "    <tr>\n",
              "      <th>458193</th>\n",
              "      <td>1021083283709407232</td>\n",
              "      <td>BH</td>\n",
              "      <td>@Zzainabali @P_ameerah والله ماينده ابش يختي</td>\n",
              "      <td>1</td>\n",
              "      <td>والله ماينده ابش يختي</td>\n",
              "    </tr>\n",
              "    <tr>\n",
              "      <th>458194</th>\n",
              "      <td>1017477537889431552</td>\n",
              "      <td>BH</td>\n",
              "      <td>@Al_mhbaa_7 شو عملنا لك حنا تهربي مننا احنا مس...</td>\n",
              "      <td>1</td>\n",
              "      <td>شو عملنا لك حنا تهربي مننا احنا مساكين ليش بتع...</td>\n",
              "    </tr>\n",
              "    <tr>\n",
              "      <th>458195</th>\n",
              "      <td>1022430374696239232</td>\n",
              "      <td>BH</td>\n",
              "      <td>@haneenalmwla الله يبارك فيها وبالعافيه 😋😋😋</td>\n",
              "      <td>1</td>\n",
              "      <td>الله يبارك فيها وبالعافيه</td>\n",
              "    </tr>\n",
              "    <tr>\n",
              "      <th>458196</th>\n",
              "      <td>1022409931029458944</td>\n",
              "      <td>BH</td>\n",
              "      <td>@jolnar121 السحله ضيفي ي بتطلع لك سحليه😅😅</td>\n",
              "      <td>1</td>\n",
              "      <td>السحله ضيفي ي بتطلع لك سحليه</td>\n",
              "    </tr>\n",
              "  </tbody>\n",
              "</table>\n",
              "<p>458197 rows × 5 columns</p>\n",
              "</div>\n",
              "      <button class=\"colab-df-convert\" onclick=\"convertToInteractive('df-163a4ecb-737b-4819-9df0-8e1284d308f3')\"\n",
              "              title=\"Convert this dataframe to an interactive table.\"\n",
              "              style=\"display:none;\">\n",
              "        \n",
              "  <svg xmlns=\"http://www.w3.org/2000/svg\" height=\"24px\"viewBox=\"0 0 24 24\"\n",
              "       width=\"24px\">\n",
              "    <path d=\"M0 0h24v24H0V0z\" fill=\"none\"/>\n",
              "    <path d=\"M18.56 5.44l.94 2.06.94-2.06 2.06-.94-2.06-.94-.94-2.06-.94 2.06-2.06.94zm-11 1L8.5 8.5l.94-2.06 2.06-.94-2.06-.94L8.5 2.5l-.94 2.06-2.06.94zm10 10l.94 2.06.94-2.06 2.06-.94-2.06-.94-.94-2.06-.94 2.06-2.06.94z\"/><path d=\"M17.41 7.96l-1.37-1.37c-.4-.4-.92-.59-1.43-.59-.52 0-1.04.2-1.43.59L10.3 9.45l-7.72 7.72c-.78.78-.78 2.05 0 2.83L4 21.41c.39.39.9.59 1.41.59.51 0 1.02-.2 1.41-.59l7.78-7.78 2.81-2.81c.8-.78.8-2.07 0-2.86zM5.41 20L4 18.59l7.72-7.72 1.47 1.35L5.41 20z\"/>\n",
              "  </svg>\n",
              "      </button>\n",
              "      \n",
              "  <style>\n",
              "    .colab-df-container {\n",
              "      display:flex;\n",
              "      flex-wrap:wrap;\n",
              "      gap: 12px;\n",
              "    }\n",
              "\n",
              "    .colab-df-convert {\n",
              "      background-color: #E8F0FE;\n",
              "      border: none;\n",
              "      border-radius: 50%;\n",
              "      cursor: pointer;\n",
              "      display: none;\n",
              "      fill: #1967D2;\n",
              "      height: 32px;\n",
              "      padding: 0 0 0 0;\n",
              "      width: 32px;\n",
              "    }\n",
              "\n",
              "    .colab-df-convert:hover {\n",
              "      background-color: #E2EBFA;\n",
              "      box-shadow: 0px 1px 2px rgba(60, 64, 67, 0.3), 0px 1px 3px 1px rgba(60, 64, 67, 0.15);\n",
              "      fill: #174EA6;\n",
              "    }\n",
              "\n",
              "    [theme=dark] .colab-df-convert {\n",
              "      background-color: #3B4455;\n",
              "      fill: #D2E3FC;\n",
              "    }\n",
              "\n",
              "    [theme=dark] .colab-df-convert:hover {\n",
              "      background-color: #434B5C;\n",
              "      box-shadow: 0px 1px 3px 1px rgba(0, 0, 0, 0.15);\n",
              "      filter: drop-shadow(0px 1px 2px rgba(0, 0, 0, 0.3));\n",
              "      fill: #FFFFFF;\n",
              "    }\n",
              "  </style>\n",
              "\n",
              "      <script>\n",
              "        const buttonEl =\n",
              "          document.querySelector('#df-163a4ecb-737b-4819-9df0-8e1284d308f3 button.colab-df-convert');\n",
              "        buttonEl.style.display =\n",
              "          google.colab.kernel.accessAllowed ? 'block' : 'none';\n",
              "\n",
              "        async function convertToInteractive(key) {\n",
              "          const element = document.querySelector('#df-163a4ecb-737b-4819-9df0-8e1284d308f3');\n",
              "          const dataTable =\n",
              "            await google.colab.kernel.invokeFunction('convertToInteractive',\n",
              "                                                     [key], {});\n",
              "          if (!dataTable) return;\n",
              "\n",
              "          const docLinkHtml = 'Like what you see? Visit the ' +\n",
              "            '<a target=\"_blank\" href=https://colab.research.google.com/notebooks/data_table.ipynb>data table notebook</a>'\n",
              "            + ' to learn more about interactive tables.';\n",
              "          element.innerHTML = '';\n",
              "          dataTable['output_type'] = 'display_data';\n",
              "          await google.colab.output.renderOutput(dataTable, element);\n",
              "          const docLink = document.createElement('div');\n",
              "          docLink.innerHTML = docLinkHtml;\n",
              "          element.appendChild(docLink);\n",
              "        }\n",
              "      </script>\n",
              "    </div>\n",
              "  </div>\n",
              "  "
            ]
          },
          "metadata": {},
          "execution_count": 9
        }
      ]
    },
    {
      "cell_type": "code",
      "source": [
        ""
      ],
      "metadata": {
        "id": "bRYDIXxwkvjI"
      },
      "execution_count": 9,
      "outputs": []
    },
    {
      "cell_type": "code",
      "source": [
        "all = [word for tokens in df[\"clean_text\"] for word in tokens]\n",
        "sentence_lengths = [len(tokens) for tokens in df[\"clean_text\"]]\n",
        "\n",
        "VOCAB = sorted(list(set(all)))\n",
        "\n",
        "print(\"%s words total, with a vocabulary size of %s\" % (len(all), len(VOCAB)))\n",
        "print(\"Max sentence length is %s\" % max(sentence_lengths))"
      ],
      "metadata": {
        "colab": {
          "base_uri": "https://localhost:8080/"
        },
        "id": "eVntndoActy1",
        "outputId": "ed49a332-e4f8-40a2-8cae-2a8ec92693f7"
      },
      "execution_count": 10,
      "outputs": [
        {
          "output_type": "stream",
          "name": "stdout",
          "text": [
            "31547488 words total, with a vocabulary size of 686\n",
            "Max sentence length is 280\n"
          ]
        }
      ]
    },
    {
      "cell_type": "code",
      "source": [
        "counter = Counter(all)\n",
        "counter.most_common(50)"
      ],
      "metadata": {
        "colab": {
          "base_uri": "https://localhost:8080/"
        },
        "id": "7y3-Om4glXsK",
        "outputId": "7aaf4b2e-270c-44e1-e605-7525581c0dd5"
      },
      "execution_count": 11,
      "outputs": [
        {
          "output_type": "execute_result",
          "data": {
            "text/plain": [
              "[(' ', 5471203),\n",
              " ('ا', 4061664),\n",
              " ('ل', 2664736),\n",
              " ('ي', 2508497),\n",
              " ('و', 1660552),\n",
              " ('م', 1595549),\n",
              " ('ن', 1480637),\n",
              " ('ه', 1454665),\n",
              " ('ب', 1168095),\n",
              " ('ر', 1123900),\n",
              " ('ت', 1072211),\n",
              " ('ع', 927750),\n",
              " ('ك', 805682),\n",
              " ('د', 722121),\n",
              " ('ح', 621029),\n",
              " ('ف', 616492),\n",
              " ('س', 609738),\n",
              " ('ق', 482610),\n",
              " ('ش', 480709),\n",
              " ('ج', 319010),\n",
              " ('ص', 272047),\n",
              " ('خ', 256384),\n",
              " ('ط', 238662),\n",
              " ('ز', 179655),\n",
              " ('ض', 128603),\n",
              " ('غ', 125824),\n",
              " ('ذ', 100728),\n",
              " ('\\n', 92426),\n",
              " ('ء', 78183),\n",
              " ('ث', 66754),\n",
              " ('_', 61948),\n",
              " ('ظ', 40737),\n",
              " ('گ', 3099),\n",
              " ('ی', 2835),\n",
              " ('ﺎ', 2638),\n",
              " ('چ', 2634),\n",
              " ('ﻟ', 1992),\n",
              " ('ہ', 1898),\n",
              " ('ﺍ', 1739),\n",
              " ('ک', 1374),\n",
              " ('ﻣ', 1125),\n",
              " ('ﻴ', 1002),\n",
              " ('ﻭ', 986),\n",
              " ('ﻮ', 904),\n",
              " ('a', 890),\n",
              " ('ھ', 886),\n",
              " ('ﻻ', 850),\n",
              " ('ﻳ', 826),\n",
              " ('ﺑ', 819),\n",
              " ('ﺮ', 777)]"
            ]
          },
          "metadata": {},
          "execution_count": 11
        }
      ]
    },
    {
      "cell_type": "code",
      "source": [
        "counted_words = Counter(all)\n",
        "\n",
        "words = []\n",
        "counts = []\n",
        "for letter, count in counted_words.most_common(25):\n",
        "    words.append(letter)\n",
        "    counts.append(count)"
      ],
      "metadata": {
        "id": "TrY2xZ3phgLF"
      },
      "execution_count": 12,
      "outputs": []
    },
    {
      "cell_type": "code",
      "source": [
        "\n",
        "colors = cm.rainbow(np.linspace(0, 1, 10))\n",
        "rcParams['figure.figsize'] = 20, 10\n",
        "\n",
        "plt.title('Top words ')\n",
        "plt.xlabel('Count')\n",
        "plt.ylabel('Words')\n",
        "plt.barh(words, counts, color=colors)"
      ],
      "metadata": {
        "colab": {
          "base_uri": "https://localhost:8080/",
          "height": 613
        },
        "id": "h9LVr937r3Si",
        "outputId": "0490c981-387d-42b0-98d2-4cfc2f51e5ba"
      },
      "execution_count": 13,
      "outputs": [
        {
          "output_type": "execute_result",
          "data": {
            "text/plain": [
              "<BarContainer object of 25 artists>"
            ]
          },
          "metadata": {},
          "execution_count": 13
        },
        {
          "output_type": "display_data",
          "data": {
            "text/plain": [
              "<Figure size 1440x720 with 1 Axes>"
            ],
            "image/png": "[encoded data removed]"
          },
          "metadata": {
            "needs_background": "light"
          }
        }
      ]
    },
    {
      "cell_type": "code",
      "source": [
        "df.to_csv('/content/drive/MyDrive/AIM_Task/cleaned_data.csv',index = False)"
      ],
      "metadata": {
        "id": "HtFFLRkf0btC"
      },
      "execution_count": 14,
      "outputs": []
    }
  ]
}